{
 "cells": [
  {
   "cell_type": "markdown",
   "metadata": {},
   "source": [
    "# WorkSafe Fatalities Analysis\n",
    "\n",
    "An analysis of the detailed [WorkSafe fatalities data](https://worksafe.govt.nz/data-and-research/ws-data/fatalities/) to determine the number of vehicle and machinery related work fatalities."
   ]
  },
  {
   "cell_type": "markdown",
   "metadata": {},
   "source": [
    "## Import Libraries"
   ]
  },
  {
   "cell_type": "code",
   "execution_count": 1,
   "metadata": {},
   "outputs": [
    {
     "name": "stdout",
     "output_type": "stream",
     "text": [
      "Python version: 3.7.1\n",
      "Numpy version: 1.15.4\n",
      "Pandas version: 0.23.4\n",
      "Matplotlib version: 3.0.2\n"
     ]
    }
   ],
   "source": [
    "import sys\n",
    "\n",
    "import numpy as np\n",
    "import pandas as pd\n",
    "import matplotlib\n",
    "import matplotlib.pyplot as plt\n",
    "\n",
    "print(f'Python version: {sys.version.split()[0]}')\n",
    "print(f'Numpy version: {np.__version__}')\n",
    "print(f'Pandas version: {pd.__version__}')\n",
    "print(f'Matplotlib version: {matplotlib.__version__}')"
   ]
  },
  {
   "cell_type": "markdown",
   "metadata": {},
   "source": [
    "## 1. Load WorkSafe Data"
   ]
  },
  {
   "cell_type": "code",
   "execution_count": 2,
   "metadata": {},
   "outputs": [
    {
     "data": {
      "text/html": [
       "<div>\n",
       "<style scoped>\n",
       "    .dataframe tbody tr th:only-of-type {\n",
       "        vertical-align: middle;\n",
       "    }\n",
       "\n",
       "    .dataframe tbody tr th {\n",
       "        vertical-align: top;\n",
       "    }\n",
       "\n",
       "    .dataframe thead th {\n",
       "        text-align: right;\n",
       "    }\n",
       "</style>\n",
       "<table border=\"1\" class=\"dataframe\">\n",
       "  <thead>\n",
       "    <tr style=\"text-align: right;\">\n",
       "      <th></th>\n",
       "      <th>Year</th>\n",
       "      <th>Month</th>\n",
       "      <th>Month_Year</th>\n",
       "      <th>IndustryLvl1</th>\n",
       "      <th>IndustryLvl2</th>\n",
       "      <th>IndustryLvl3</th>\n",
       "      <th>IndustryLvl4</th>\n",
       "      <th>AFF2017</th>\n",
       "      <th>Region</th>\n",
       "      <th>Local_Government_District</th>\n",
       "      <th>Age</th>\n",
       "      <th>Age_Group</th>\n",
       "      <th>FocusArea1</th>\n",
       "      <th>FocusArea2</th>\n",
       "      <th>QuadBike</th>\n",
       "      <th>No_of_Fatalities</th>\n",
       "    </tr>\n",
       "  </thead>\n",
       "  <tbody>\n",
       "    <tr>\n",
       "      <th>0</th>\n",
       "      <td>2010</td>\n",
       "      <td>1</td>\n",
       "      <td>01JAN2010</td>\n",
       "      <td>Agriculture, Forestry and Fishing</td>\n",
       "      <td>Forestry and Logging</td>\n",
       "      <td>Forestry and Logging</td>\n",
       "      <td>Logging</td>\n",
       "      <td>Forestry and Logging</td>\n",
       "      <td>Marlborough</td>\n",
       "      <td>Marlborough</td>\n",
       "      <td>34.0</td>\n",
       "      <td>25-34</td>\n",
       "      <td>Forestry</td>\n",
       "      <td>Tree Felling</td>\n",
       "      <td>NaN</td>\n",
       "      <td>1</td>\n",
       "    </tr>\n",
       "    <tr>\n",
       "      <th>1</th>\n",
       "      <td>2010</td>\n",
       "      <td>1</td>\n",
       "      <td>01JAN2010</td>\n",
       "      <td>Agriculture, Forestry and Fishing</td>\n",
       "      <td>Forestry and Logging</td>\n",
       "      <td>Forestry and Logging</td>\n",
       "      <td>Logging</td>\n",
       "      <td>Forestry and Logging</td>\n",
       "      <td>Waikato</td>\n",
       "      <td>South Waikato</td>\n",
       "      <td>37.0</td>\n",
       "      <td>35-44</td>\n",
       "      <td>Forestry</td>\n",
       "      <td>Vehicles &amp; Machinery</td>\n",
       "      <td>NaN</td>\n",
       "      <td>1</td>\n",
       "    </tr>\n",
       "    <tr>\n",
       "      <th>2</th>\n",
       "      <td>2010</td>\n",
       "      <td>1</td>\n",
       "      <td>01JAN2010</td>\n",
       "      <td>Transport, Postal and Warehousing</td>\n",
       "      <td>Road Transport</td>\n",
       "      <td>Road Freight Transport</td>\n",
       "      <td>Road Freight Transport</td>\n",
       "      <td>Transport, Postal and Warehousing</td>\n",
       "      <td>Auckland</td>\n",
       "      <td>Manukau</td>\n",
       "      <td>24.0</td>\n",
       "      <td>15-24</td>\n",
       "      <td>Not a focus area</td>\n",
       "      <td>Vehicles &amp; Machinery</td>\n",
       "      <td>NaN</td>\n",
       "      <td>1</td>\n",
       "    </tr>\n",
       "    <tr>\n",
       "      <th>3</th>\n",
       "      <td>2010</td>\n",
       "      <td>2</td>\n",
       "      <td>01FEB2010</td>\n",
       "      <td>Arts and Recreation Services</td>\n",
       "      <td>Sport and Recreation Activities</td>\n",
       "      <td>Amusement and Other Recreation Activities</td>\n",
       "      <td>Amusement and Other Recreation Activities n.e.c.</td>\n",
       "      <td>Arts and Recreation Services</td>\n",
       "      <td>Manawatu-Whanganui</td>\n",
       "      <td>Whanganui</td>\n",
       "      <td>36.0</td>\n",
       "      <td>35-44</td>\n",
       "      <td>Not a focus area</td>\n",
       "      <td>Bodies of Water</td>\n",
       "      <td>NaN</td>\n",
       "      <td>1</td>\n",
       "    </tr>\n",
       "    <tr>\n",
       "      <th>4</th>\n",
       "      <td>2010</td>\n",
       "      <td>2</td>\n",
       "      <td>01FEB2010</td>\n",
       "      <td>Construction</td>\n",
       "      <td>Construction Services</td>\n",
       "      <td>Land Development and Site Preparation Services</td>\n",
       "      <td>Site Preparation Services</td>\n",
       "      <td>Construction</td>\n",
       "      <td>Auckland</td>\n",
       "      <td>Waitakere</td>\n",
       "      <td>36.0</td>\n",
       "      <td>35-44</td>\n",
       "      <td>Construction</td>\n",
       "      <td>Vehicles &amp; Machinery</td>\n",
       "      <td>NaN</td>\n",
       "      <td>1</td>\n",
       "    </tr>\n",
       "  </tbody>\n",
       "</table>\n",
       "</div>"
      ],
      "text/plain": [
       "   Year  Month Month_Year                       IndustryLvl1  \\\n",
       "0  2010      1  01JAN2010  Agriculture, Forestry and Fishing   \n",
       "1  2010      1  01JAN2010  Agriculture, Forestry and Fishing   \n",
       "2  2010      1  01JAN2010  Transport, Postal and Warehousing   \n",
       "3  2010      2  01FEB2010       Arts and Recreation Services   \n",
       "4  2010      2  01FEB2010                       Construction   \n",
       "\n",
       "                      IndustryLvl2  \\\n",
       "0             Forestry and Logging   \n",
       "1             Forestry and Logging   \n",
       "2                   Road Transport   \n",
       "3  Sport and Recreation Activities   \n",
       "4            Construction Services   \n",
       "\n",
       "                                     IndustryLvl3  \\\n",
       "0                            Forestry and Logging   \n",
       "1                            Forestry and Logging   \n",
       "2                          Road Freight Transport   \n",
       "3       Amusement and Other Recreation Activities   \n",
       "4  Land Development and Site Preparation Services   \n",
       "\n",
       "                                       IndustryLvl4  \\\n",
       "0                                           Logging   \n",
       "1                                           Logging   \n",
       "2                            Road Freight Transport   \n",
       "3  Amusement and Other Recreation Activities n.e.c.   \n",
       "4                         Site Preparation Services   \n",
       "\n",
       "                             AFF2017              Region  \\\n",
       "0               Forestry and Logging         Marlborough   \n",
       "1               Forestry and Logging             Waikato   \n",
       "2  Transport, Postal and Warehousing            Auckland   \n",
       "3       Arts and Recreation Services  Manawatu-Whanganui   \n",
       "4                       Construction            Auckland   \n",
       "\n",
       "  Local_Government_District   Age Age_Group        FocusArea1  \\\n",
       "0               Marlborough  34.0     25-34          Forestry   \n",
       "1             South Waikato  37.0     35-44          Forestry   \n",
       "2                   Manukau  24.0     15-24  Not a focus area   \n",
       "3                 Whanganui  36.0     35-44  Not a focus area   \n",
       "4                 Waitakere  36.0     35-44      Construction   \n",
       "\n",
       "             FocusArea2 QuadBike  No_of_Fatalities  \n",
       "0          Tree Felling      NaN                 1  \n",
       "1  Vehicles & Machinery      NaN                 1  \n",
       "2  Vehicles & Machinery      NaN                 1  \n",
       "3       Bodies of Water      NaN                 1  \n",
       "4  Vehicles & Machinery      NaN                 1  "
      ]
     },
     "execution_count": 2,
     "metadata": {},
     "output_type": "execute_result"
    }
   ],
   "source": [
    "DATA_PATH = '../data/worksafe_fatalities_detailed.csv'\n",
    "df = pd.read_csv(DATA_PATH)\n",
    "\n",
    "df.head()"
   ]
  },
  {
   "cell_type": "markdown",
   "metadata": {},
   "source": [
    "## 2. Analyse the Number of Vehicle and Machinery Related Fatalities"
   ]
  },
  {
   "cell_type": "code",
   "execution_count": 6,
   "metadata": {},
   "outputs": [
    {
     "data": {
      "text/plain": [
       "2010    73\n",
       "2013    57\n",
       "2017    50\n",
       "2016    50\n",
       "2011    49\n",
       "2012    47\n",
       "2015    45\n",
       "2014    43\n",
       "2018    42\n",
       "2019    10\n",
       "Name: Year, dtype: int64"
      ]
     },
     "execution_count": 6,
     "metadata": {},
     "output_type": "execute_result"
    }
   ],
   "source": [
    "# How many deaths per year are recorded?\n",
    "df['Year'].value_counts()"
   ]
  },
  {
   "cell_type": "code",
   "execution_count": 7,
   "metadata": {},
   "outputs": [
    {
     "data": {
      "text/plain": [
       "Vehicles & Machinery                      249\n",
       "Tree Felling                               32\n",
       "Fall from height                           28\n",
       "Hazardous Substances                       25\n",
       "Sudden Death                               25\n",
       "Falling/Moving Object                      21\n",
       "Bodies of Water                            16\n",
       "Animal                                      9\n",
       "Other                                       8\n",
       "Breaking Out                                8\n",
       "Energy Safety                               8\n",
       "SCUBA Diving, Snorkelling, Free diving      5\n",
       "Excavation                                  4\n",
       "Snow-based activities                       4\n",
       "Slips and trips                             4\n",
       "Fire, heat, explosion (non-HSNO)            3\n",
       "Fire, burns, explosion                      3\n",
       "Wood Processing                             2\n",
       "Log Hauling                                 2\n",
       "Machine Guarding                            2\n",
       "High Wire                                   2\n",
       "Mountain Climbing/Mountaineering            2\n",
       "Walking, Tramping, Trecking                 1\n",
       "Snow sports                                 1\n",
       "Outdoor Education                           1\n",
       "Off-Road Vehicle Driving                    1\n",
       "Name: FocusArea2, dtype: int64"
      ]
     },
     "execution_count": 7,
     "metadata": {},
     "output_type": "execute_result"
    }
   ],
   "source": [
    "# How many FocusArea2 categories are there?\n",
    "df['FocusArea2'].value_counts()"
   ]
  },
  {
   "cell_type": "markdown",
   "metadata": {},
   "source": [
    "The dataset is clean, and there are no mispelt category names (i.e. 'Vehicles & Machinery' vs 'Vehicles and Machinery')."
   ]
  },
  {
   "cell_type": "code",
   "execution_count": 8,
   "metadata": {},
   "outputs": [
    {
     "data": {
      "text/plain": [
       "Vehicles & Machinery                      243\n",
       "Tree Felling                               31\n",
       "Fall from height                           28\n",
       "Hazardous Substances                       25\n",
       "Sudden Death                               24\n",
       "Falling/Moving Object                      20\n",
       "Bodies of Water                            16\n",
       "Animal                                      9\n",
       "Other                                       8\n",
       "Energy Safety                               8\n",
       "Breaking Out                                7\n",
       "SCUBA Diving, Snorkelling, Free diving      5\n",
       "Excavation                                  4\n",
       "Snow-based activities                       4\n",
       "Slips and trips                             4\n",
       "Fire, heat, explosion (non-HSNO)            3\n",
       "Fire, burns, explosion                      3\n",
       "Wood Processing                             2\n",
       "Log Hauling                                 2\n",
       "Machine Guarding                            2\n",
       "High Wire                                   2\n",
       "Mountain Climbing/Mountaineering            2\n",
       "Walking, Tramping, Trecking                 1\n",
       "Snow sports                                 1\n",
       "Outdoor Education                           1\n",
       "Off-Road Vehicle Driving                    1\n",
       "Name: FocusArea2, dtype: int64"
      ]
     },
     "execution_count": 8,
     "metadata": {},
     "output_type": "execute_result"
    }
   ],
   "source": [
    "# How do the results change when 2019 data is excluded?\n",
    "df[df['Year'] != 2019]['FocusArea2'].value_counts()"
   ]
  },
  {
   "cell_type": "code",
   "execution_count": 11,
   "metadata": {},
   "outputs": [
    {
     "data": {
      "text/plain": [
       "456"
      ]
     },
     "execution_count": 11,
     "metadata": {},
     "output_type": "execute_result"
    }
   ],
   "source": [
    "# How many total workplace related deaths are there between 2010-2018?\n",
    "df[df['Year'] != 2019].shape[0]"
   ]
  },
  {
   "cell_type": "code",
   "execution_count": 15,
   "metadata": {},
   "outputs": [
    {
     "data": {
      "text/plain": [
       "0.5328947368421053"
      ]
     },
     "execution_count": 15,
     "metadata": {},
     "output_type": "execute_result"
    }
   ],
   "source": [
    "# What proportion of workplace injuries between 2010-2018 are vehicle and machinery related?\n",
    "vehicle_machinery_deaths = df[df['Year'] != 2019]['FocusArea2'].value_counts()['Vehicles & Machinery']\n",
    "total_deaths = df[df['Year'] != 2019].shape[0]\n",
    "\n",
    "vehicle_machinery_deaths / total_deaths"
   ]
  },
  {
   "cell_type": "code",
   "execution_count": null,
   "metadata": {},
   "outputs": [],
   "source": []
  }
 ],
 "metadata": {
  "kernelspec": {
   "display_name": "Python 3",
   "language": "python",
   "name": "python3"
  },
  "language_info": {
   "codemirror_mode": {
    "name": "ipython",
    "version": 3
   },
   "file_extension": ".py",
   "mimetype": "text/x-python",
   "name": "python",
   "nbconvert_exporter": "python",
   "pygments_lexer": "ipython3",
   "version": "3.7.1"
  }
 },
 "nbformat": 4,
 "nbformat_minor": 2
}
