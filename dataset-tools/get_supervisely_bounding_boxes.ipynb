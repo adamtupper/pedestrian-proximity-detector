{
 "cells": [
  {
   "cell_type": "markdown",
   "metadata": {},
   "source": [
    "# Extract the Bounding Boxes from Person Masks for Supervisely Persons Data\n",
    "\n",
    "The JSON annotation files for each image in the Supervisely Persons dataset does not contain bounding box information (specifically $x_{min}$, $x_{max}$, $y_{min}$ and $y_{max}$). These are required for the TensorFlow Object Detection API and therefore need to be extracted when creating the TFRecords. This notebook explores how to do this."
   ]
  },
  {
   "cell_type": "markdown",
   "metadata": {},
   "source": [
    "## Import Libraries"
   ]
  },
  {
   "cell_type": "code",
   "execution_count": 15,
   "metadata": {},
   "outputs": [
    {
     "name": "stdout",
     "output_type": "stream",
     "text": [
      "Python version: 3.6.8\n",
      "Numpy version: 1.16.2\n",
      "Matplotlib version: 3.0.2\n",
      "OpenCV version: 4.0.1\n",
      "Pillow version: 5.4.1\n"
     ]
    }
   ],
   "source": [
    "import sys\n",
    "import json\n",
    "import zlib\n",
    "import base64\n",
    "import glob\n",
    "import os\n",
    "import io\n",
    "\n",
    "import numpy as np\n",
    "import cv2 as cv\n",
    "import matplotlib\n",
    "import matplotlib.pyplot as plt\n",
    "import PIL\n",
    "import PIL.Image\n",
    "\n",
    "print(f'Python version: {sys.version.split()[0]}')\n",
    "print(f'Numpy version: {np.__version__}')\n",
    "print(f'Matplotlib version: {matplotlib.__version__}')\n",
    "print(f'OpenCV version: {cv.__version__}')\n",
    "print(f'Pillow version: {PIL.__version__}')"
   ]
  },
  {
   "cell_type": "markdown",
   "metadata": {},
   "source": [
    "## 1. Open an Annotation File"
   ]
  },
  {
   "cell_type": "code",
   "execution_count": 19,
   "metadata": {},
   "outputs": [],
   "source": [
    "DATASET_PATH = '/media/adam/HDD Storage/Datasets/supervisely-persons/' # Path to the dataset root\n",
    "FILE_PATH = 'ds2/ann/pexels-photo-273037.json' # Path from the dataset root to the desired file"
   ]
  },
  {
   "cell_type": "code",
   "execution_count": 20,
   "metadata": {},
   "outputs": [],
   "source": [
    "with open(DATASET_PATH + FILE_PATH, 'r') as f:\n",
    "    annotations_dict = json.load(f)"
   ]
  },
  {
   "cell_type": "markdown",
   "metadata": {},
   "source": [
    "## 2. Convert Serialised Mask to Mask\n",
    "\n",
    "The following functions are provided by Supervisely ([here](https://docs.supervise.ly/ann_format/)) to convert between serialised masks and masks."
   ]
  },
  {
   "cell_type": "code",
   "execution_count": 21,
   "metadata": {},
   "outputs": [],
   "source": [
    "def base64_2_mask(s):\n",
    "    \"\"\"\n",
    "    Convert from a base64 encoded string to numpy mask.\n",
    "    \"\"\"\n",
    "    z = zlib.decompress(base64.b64decode(s))\n",
    "    n = np.frombuffer(z, np.uint8)\n",
    "    mask = cv.imdecode(n, cv.IMREAD_UNCHANGED)[:, :, 3].astype(bool)\n",
    "    \n",
    "    return mask\n",
    "\n",
    "def mask_2_base64(mask):\n",
    "    \"\"\"\n",
    "    Convert from a numpy mask to a base64 encoded string.\n",
    "    \"\"\"\n",
    "    img_pil = Image.fromarray(np.array(mask, dtype=np.uint8))\n",
    "    img_pil.putpalette([0,0,0,255,255,255])\n",
    "    bytes_io = io.BytesIO()\n",
    "    img_pil.save(bytes_io, format='PNG', transparency=0, optimize=0)\n",
    "    bytes = bytes_io.getvalue()\n",
    "    \n",
    "    return base64.b64encode(zlib.compress(bytes)).decode('utf-8')"
   ]
  },
  {
   "cell_type": "code",
   "execution_count": 22,
   "metadata": {},
   "outputs": [
    {
     "data": {
      "image/png": "[encoded data removed]",
      "text/plain": [
       "<Figure size 432x288 with 1 Axes>"
      ]
     },
     "metadata": {
      "needs_background": "light"
     },
     "output_type": "display_data"
    }
   ],
   "source": [
    "for obj in annotations_dict['objects']:\n",
    "    img = base64_2_mask(obj['bitmap']['data']).astype(np.uint8)\n",
    "    plt.imshow(img)\n",
    "    plt.show()"
   ]
  },
  {
   "cell_type": "markdown",
   "metadata": {},
   "source": [
    "## 3. Extract Bounding Box Coordinates\n",
    "\n",
    "We want arrays for each of $x_{min}$, $x_{max}$, $y_{min}$ and $y_{max}$."
   ]
  },
  {
   "cell_type": "code",
   "execution_count": 23,
   "metadata": {},
   "outputs": [],
   "source": [
    "x_mins = []\n",
    "x_maxs = []\n",
    "y_mins = []\n",
    "y_maxs = []\n",
    "\n",
    "# Note: mask/image origins are the top-left corners\n",
    "img_width = annotations_dict['size']['width']\n",
    "img_height = annotations_dict['size']['height']\n",
    "\n",
    "for person in annotations_dict['objects']:\n",
    "    mask_origin = person['bitmap']['origin']\n",
    "    mask = base64_2_mask(person['bitmap']['data']).astype(np.uint8)\n",
    "    mask_height = mask.shape[0]\n",
    "    mask_width = mask.shape[1]\n",
    "    \n",
    "    # Get bounding box coords\n",
    "    x_min = mask_origin[0]\n",
    "    x_max = mask_origin[0] + mask_width\n",
    "    y_min = mask_origin[1]\n",
    "    y_max = mask_origin[1] + mask_height\n",
    "    \n",
    "    x_mins.append(x_min)\n",
    "    x_maxs.append(x_max)\n",
    "    y_mins.append(y_min)\n",
    "    y_maxs.append(y_max)"
   ]
  },
  {
   "cell_type": "code",
   "execution_count": 24,
   "metadata": {},
   "outputs": [
    {
     "name": "stdout",
     "output_type": "stream",
     "text": [
      "[297]\n",
      "[880]\n",
      "[223]\n",
      "[799]\n"
     ]
    }
   ],
   "source": [
    "print(x_mins)\n",
    "print(x_maxs)\n",
    "print(y_mins)\n",
    "print(y_maxs)"
   ]
  },
  {
   "cell_type": "markdown",
   "metadata": {},
   "source": [
    "## 4. Creating Whole-Image Masks\n",
    "\n",
    "For image segmentation, the TensorFlow Object Detection API requires object masks which meet the following requirements:\n",
    "    \n",
    "* **Masks must be whole-image masks** (i.e. the dimensions of the masks must match the dimensions of the image).\n",
    "* **Provide a mask for each object** to be detected in the image.\n",
    "* Preferably masks should be in **PNG format** (to save space).\n",
    "* Masks must be **encoded 1 for pixels of the object, 0 otherwise**.\n",
    "\n",
    "Therefore, since the persons dataset masks are not whole-image masks, we must adapt them."
   ]
  },
  {
   "cell_type": "code",
   "execution_count": 25,
   "metadata": {},
   "outputs": [
    {
     "data": {
      "image/png": "[encoded data removed]",
      "text/plain": [
       "<Figure size 432x288 with 1 Axes>"
      ]
     },
     "metadata": {
      "needs_background": "light"
     },
     "output_type": "display_data"
    }
   ],
   "source": [
    "# Note: mask/image origins are the top-left corners\n",
    "img_width = annotations_dict['size']['width']\n",
    "img_height = annotations_dict['size']['height']\n",
    "\n",
    "for person in annotations_dict['objects']:\n",
    "    mask_origin = person['bitmap']['origin']\n",
    "    mask = base64_2_mask(person['bitmap']['data']).astype(np.uint8)\n",
    "    mask_height = mask.shape[0]\n",
    "    mask_width = mask.shape[1] \n",
    "    \n",
    "    # Create padding\n",
    "    left_pad = np.zeros((mask_height, mask_origin[0]))\n",
    "    right_pad = np.zeros((mask_height, img_width - mask_width - mask_origin[0]))\n",
    "    top_pad = np.zeros((mask_origin[1], img_width))\n",
    "    bottom_pad = np.zeros((img_height - mask_height - mask_origin[1], img_width))\n",
    "    \n",
    "    # Append and prepend padding\n",
    "    mask = np.hstack((left_pad, mask))\n",
    "    mask = np.hstack((mask, right_pad))\n",
    "    mask = np.vstack((top_pad, mask))\n",
    "    mask = np.vstack((mask, bottom_pad))\n",
    "    \n",
    "    plt.imshow(mask)\n",
    "    plt.show()"
   ]
  },
  {
   "cell_type": "code",
   "execution_count": 26,
   "metadata": {},
   "outputs": [],
   "source": [
    "img = PIL.Image.fromarray(mask).convert('1')\n",
    "output = io.BytesIO()\n",
    "img.save(output, format='PNG')"
   ]
  },
  {
   "cell_type": "markdown",
   "metadata": {},
   "source": [
    "## 5. Generating `trainval.txt`"
   ]
  },
  {
   "cell_type": "code",
   "execution_count": 28,
   "metadata": {},
   "outputs": [],
   "source": [
    "examples = []\n",
    "for dataset_dir in [f.name for f in os.scandir(DATASET_PATH) if f.is_dir()]:\n",
    "    annotations_path = os.path.join(DATASET_PATH, dataset_dir, 'ann')\n",
    "    examples += [os.path.join(dataset_dir, 'ann', f.name) for f in os.scandir(annotations_path)]"
   ]
  },
  {
   "cell_type": "code",
   "execution_count": 29,
   "metadata": {},
   "outputs": [
    {
     "data": {
      "text/plain": [
       "['ds1/ann/bodybuilder-weight-training-stress-38630.json',\n",
       " 'ds1/ann/bow-tie-businessman-fashion-man.json',\n",
       " 'ds1/ann/bow-tie-fashion-man-person.json',\n",
       " 'ds1/ann/boy-african-africa-child-47080.json',\n",
       " 'ds1/ann/brothers-family-siblings-boys-50692.json',\n",
       " 'ds1/ann/brown-brunette-female-finger-41551.json',\n",
       " 'ds1/ann/brunette-cute-fashion-female-41366.json',\n",
       " 'ds1/ann/child-children-girl-happy.json',\n",
       " 'ds1/ann/city-man-person-lights.json',\n",
       " 'ds1/ann/city-woman-view-blue-sky.json']"
      ]
     },
     "execution_count": 29,
     "metadata": {},
     "output_type": "execute_result"
    }
   ],
   "source": [
    "examples[:10]"
   ]
  },
  {
   "cell_type": "code",
   "execution_count": null,
   "metadata": {},
   "outputs": [],
   "source": []
  }
 ],
 "metadata": {
  "kernelspec": {
   "display_name": "OpenCV",
   "language": "python",
   "name": "opencv"
  },
  "language_info": {
   "codemirror_mode": {
    "name": "ipython",
    "version": 3
   },
   "file_extension": ".py",
   "mimetype": "text/x-python",
   "name": "python",
   "nbconvert_exporter": "python",
   "pygments_lexer": "ipython3",
   "version": "3.6.8"
  }
 },
 "nbformat": 4,
 "nbformat_minor": 2
}
